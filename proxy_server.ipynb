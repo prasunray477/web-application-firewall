{
  "nbformat": 4,
  "nbformat_minor": 0,
  "metadata": {
    "colab": {
      "provenance": []
    },
    "kernelspec": {
      "name": "python3",
      "display_name": "Python 3"
    },
    "language_info": {
      "name": "python"
    }
  },
  "cells": [
    {
      "cell_type": "code",
      "execution_count": 1,
      "metadata": {
        "id": "EHfBX7T8ztbE"
      },
      "outputs": [],
      "source": [
        "from http.server import SimpleHTTPRequestHandler, HTTPServer\n",
        "from urllib import request, error, parse\n",
        "import numpy as np\n",
        "import pandas as pd\n",
        "import pickle\n",
        "from sklearn.linear_model import LogisticRegression\n",
        "from sklearn.model_selection import train_test_split\n",
        "from sklearn.metrics import accuracy_score, classification_report\n",
        "import urllib.parse"
      ]
    },
    {
      "cell_type": "code",
      "source": [
        "badwords = ['sleep', 'uid', 'select', 'waitfor', 'delay', 'system', 'union', 'order by', 'group by', 'admin', 'drop','script']"
      ],
      "metadata": {
        "id": "7270M6pGz_7m"
      },
      "execution_count": 2,
      "outputs": []
    },
    {
      "cell_type": "code",
      "source": [
        "# Defining the ExtractFeatures function outside the class\n",
        "def ExtractFeatures(path, body):\n",
        "    path, body = str(path), str(body)\n",
        "    combined_raw = path + body\n",
        "    raw_percentages = combined_raw.count(\"%\")\n",
        "    raw_spaces = combined_raw.count(\" \")\n",
        "\n",
        "    # Check if both counts exceed the threshold\n",
        "    raw_percentages_count = raw_percentages if raw_percentages > 3 else 0\n",
        "    raw_spaces_count = raw_spaces if raw_spaces > 3 else 0\n",
        "\n",
        "    # Decode the path and body for other feature extractions\n",
        "    path_decoded = urllib.parse.unquote_plus(path)\n",
        "    body_decoded = urllib.parse.unquote_plus(body)\n",
        "\n",
        "    single_q = path_decoded.count(\"'\") + body_decoded.count(\"'\")\n",
        "    double_q = path_decoded.count(\"\\\"\") + body_decoded.count(\"\\\"\")\n",
        "    dashes = path_decoded.count(\"--\") + body_decoded.count(\"--\")\n",
        "    braces = path_decoded.count(\"(\") + body_decoded.count(\"(\")\n",
        "    spaces = path_decoded.count(\" \") + body_decoded.count(\" \")\n",
        "    semicolons = path_decoded.count(\";\") + body_decoded.count(\";\")\n",
        "    angle_brackets = path_decoded.count(\"<\") + path_decoded.count(\">\") + body_decoded.count(\"<\") + body_decoded.count(\n",
        "        \">\")\n",
        "    special_chars = sum(path_decoded.count(c) + body_decoded.count(c) for c in '$&|')\n",
        "\n",
        "    badwords_count = sum(path_decoded.lower().count(word) + body_decoded.lower().count(word) for word in badwords)\n",
        "\n",
        "    path_length = len(path_decoded)\n",
        "    body_length = len(body_decoded)\n",
        "\n",
        "    return [single_q, double_q, dashes, braces, spaces, raw_percentages_count, semicolons, angle_brackets,\n",
        "            special_chars, path_length, body_length, badwords_count]"
      ],
      "metadata": {
        "id": "m79dQ_Yb0EHz"
      },
      "execution_count": 3,
      "outputs": []
    },
    {
      "cell_type": "code",
      "source": [
        "# Define the SimpleHTTPProxy class\n",
        "class SimpleHTTPProxy(SimpleHTTPRequestHandler):\n",
        "    proxy_routes = {}\n",
        "\n",
        "    @classmethod\n",
        "    def set_routes(cls, proxy_routes):\n",
        "        cls.proxy_routes = proxy_routes\n",
        "\n",
        "    def do_GET(self):\n",
        "        parts = self.path.split('/')\n",
        "        print(parts)\n",
        "        if len(parts) > 3:\n",
        "            path_part = parts[3]\n",
        "            body = \"\"\n",
        "            live_data = ExtractFeatures(path_part, body)\n",
        "            live_data = np.array(live_data).reshape(1, -1)\n",
        "\n",
        "            # Load the model inside the request handler\n",
        "            with open('training_model.pkl', 'rb') as file:\n",
        "                model = pickle.load(file)\n",
        "\n",
        "            # Use the trained model for prediction\n",
        "            result = model.predict(live_data)\n",
        "            print(result[0])\n",
        "\n",
        "        # Check the prediction result\n",
        "        if result[0] == 1:\n",
        "            print('Intrusion Detected')\n",
        "\n",
        "        if len(parts) >= 2:\n",
        "            self.proxy_request('http://' + parts[2] + '/')\n",
        "        else:\n",
        "            super().do_GET()\n",
        "\n",
        "    def proxy_request(self, url):\n",
        "        try:\n",
        "            response = request.urlopen(url)\n",
        "        except error.HTTPError as e:\n",
        "            print('err')\n",
        "            self.send_response_only(e.code)\n",
        "            self.end_headers()\n",
        "            return\n",
        "        self.send_response_only(response.status)\n",
        "        for name, value in response.headers.items():\n",
        "            self.send_header(name, value)\n",
        "        self.end_headers()\n",
        "        self.copyfile(response, self.wfile)"
      ],
      "metadata": {
        "id": "9rpNWfg00Ny-"
      },
      "execution_count": 4,
      "outputs": []
    },
    {
      "cell_type": "code",
      "source": [
        "if __name__ == \"__main__\":\n",
        "    with HTTPServer((\"127.0.0.1\", 8080), SimpleHTTPProxy) as server:\n",
        "        print(\"Proxy server running at http://127.0.0.1:8080\")\n",
        "        try:\n",
        "            server.serve_forever()\n",
        "        except KeyboardInterrupt:\n",
        "            print(\"\\nServer stopped.\")"
      ],
      "metadata": {
        "id": "VINfL_8p00OU"
      },
      "execution_count": null,
      "outputs": []
    }
  ]
}